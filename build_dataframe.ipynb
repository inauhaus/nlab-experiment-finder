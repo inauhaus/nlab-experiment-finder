{
 "cells": [
  {
   "cell_type": "markdown",
   "id": "91c57a79",
   "metadata": {},
   "source": [
    "# Building a Pandas data frame from Matlab experiment files in the Nauhaus lab.\n",
    "\n",
    "This code builds a huge table, where each row is a different experiment, and each column is an experimental variable. The information is extracted from the .analyzer files, typical contained in the folder 'AnalyzerFiles'. A given 'AnalyzerFiles' folder will have experimental information associated with potentially every experiment ever performed in the Nauhaus Lab. At a minimum, the information related to each experiment is contained in the GUIs on the stimulus controller: e.g. animal name, screen distance, visual stimulus looping parameters, parameter lists, display type, recording method, etc. \n",
    "\n",
    "The table that gets built is in the form of a Pandas data frame. Pandas is an analysis tool built on Python. This allows for a ton of flexibility for filtering out different experiments. Examples are given at the end.\n"
   ]
  },
  {
   "cell_type": "code",
   "execution_count": 177,
   "id": "623e22bd",
   "metadata": {},
   "outputs": [],
   "source": [
    "import os\n",
    "import numpy as np\n",
    "import pandas as pd\n",
    "from scipy import io\n",
    "from organizemat import organizemat #Local. Taken from S.O.\n",
    "from mat2list import mat2list #My function. Interprets MATLAB vector into a Python list."
   ]
  },
  {
   "cell_type": "code",
   "execution_count": 179,
   "id": "730f914d",
   "metadata": {},
   "outputs": [
    {
     "name": "stdout",
     "output_type": "stream",
     "text": [
      "no animals =  373\n"
     ]
    }
   ],
   "source": [
    "#type in the path location of this notebook\n",
    "wdir = '/Users/in2293/Desktop/nlab_experiment_finder' \n",
    "os.chdir(wdir)\n",
    "\n",
    "#Analyzer files may be somewhere else on th eocmputer...\n",
    "fileloc = '/Users/in2293/Desktop/nlab_experiment_finder/AnalyzerFiles' #working directory\n",
    "\n",
    "subfolders = [f.path for f in os.scandir(fileloc) if f.is_dir() ] #list of all the folder names\n",
    "print('no animals = ', len(subfolders))  #Each folder is a separate animal."
   ]
  },
  {
   "cell_type": "code",
   "execution_count": 180,
   "id": "692b7aa6",
   "metadata": {},
   "outputs": [
    {
     "name": "stdout",
     "output_type": "stream",
     "text": [
      "/Users/in2293/Desktop/nlab_experiment_finder/AnalyzerFiles/nr4\n",
      "/Users/in2293/Desktop/nlab_experiment_finder/AnalyzerFiles/rf6\n",
      "/Users/in2293/Desktop/nlab_experiment_finder/AnalyzerFiles/ri2\n",
      "/Users/in2293/Desktop/nlab_experiment_finder/AnalyzerFiles/dr4\n",
      "/Users/in2293/Desktop/nlab_experiment_finder/AnalyzerFiles/rj4\n",
      "/Users/in2293/Desktop/nlab_experiment_finder/AnalyzerFiles/nq5\n",
      "/Users/in2293/Desktop/nlab_experiment_finder/AnalyzerFiles/rj3\n",
      "/Users/in2293/Desktop/nlab_experiment_finder/AnalyzerFiles/re7\n",
      "/Users/in2293/Desktop/nlab_experiment_finder/AnalyzerFiles/dr3\n",
      "/Users/in2293/Desktop/nlab_experiment_finder/AnalyzerFiles/rf8\n",
      "/Users/in2293/Desktop/nlab_experiment_finder/AnalyzerFiles/rl8\n",
      "/Users/in2293/Desktop/nlab_experiment_finder/AnalyzerFiles/nx3\n",
      "/Users/in2293/Desktop/nlab_experiment_finder/AnalyzerFiles/rc2\n",
      "/Users/in2293/Desktop/nlab_experiment_finder/AnalyzerFiles/nt8\n",
      "/Users/in2293/Desktop/nlab_experiment_finder/AnalyzerFiles/ws5\n",
      "/Users/in2293/Desktop/nlab_experiment_finder/AnalyzerFiles/rl6\n",
      "/Users/in2293/Desktop/nlab_experiment_finder/AnalyzerFiles/nx4\n",
      "/Users/in2293/Desktop/nlab_experiment_finder/AnalyzerFiles/rl1\n",
      "/Users/in2293/Desktop/nlab_experiment_finder/AnalyzerFiles/re6\n",
      "/Users/in2293/Desktop/nlab_experiment_finder/AnalyzerFiles/dr2\n",
      "/Users/in2293/Desktop/nlab_experiment_finder/AnalyzerFiles/rf9\n",
      "/Users/in2293/Desktop/nlab_experiment_finder/AnalyzerFiles/dr5\n",
      "/Users/in2293/Desktop/nlab_experiment_finder/AnalyzerFiles/New folder\n",
      "/Users/in2293/Desktop/nlab_experiment_finder/AnalyzerFiles/nq4\n",
      "/Users/in2293/Desktop/nlab_experiment_finder/AnalyzerFiles/ri3\n",
      "/Users/in2293/Desktop/nlab_experiment_finder/AnalyzerFiles/rf7\n",
      "/Users/in2293/Desktop/nlab_experiment_finder/AnalyzerFiles/nx5\n",
      "/Users/in2293/Desktop/nlab_experiment_finder/AnalyzerFiles/rc4\n",
      "/Users/in2293/Desktop/nlab_experiment_finder/AnalyzerFiles/rl0\n",
      "/Users/in2293/Desktop/nlab_experiment_finder/AnalyzerFiles/fx6\n",
      "/Users/in2293/Desktop/nlab_experiment_finder/AnalyzerFiles/nx2\n",
      "/Users/in2293/Desktop/nlab_experiment_finder/AnalyzerFiles/nw6\n",
      "/Users/in2293/Desktop/nlab_experiment_finder/AnalyzerFiles/rl7\n",
      "/Users/in2293/Desktop/nlab_experiment_finder/AnalyzerFiles/rc3\n",
      "/Users/in2293/Desktop/nlab_experiment_finder/AnalyzerFiles/rl9\n",
      "/Users/in2293/Desktop/nlab_experiment_finder/AnalyzerFiles/ay4\n",
      "/Users/in2293/Desktop/nlab_experiment_finder/AnalyzerFiles/rq3\n",
      "/Users/in2293/Desktop/nlab_experiment_finder/AnalyzerFiles/ne6\n",
      "/Users/in2293/Desktop/nlab_experiment_finder/AnalyzerFiles/nj2\n",
      "/Users/in2293/Desktop/nlab_experiment_finder/AnalyzerFiles/rq4\n",
      "/Users/in2293/Desktop/nlab_experiment_finder/AnalyzerFiles/ay3\n",
      "/Users/in2293/Desktop/nlab_experiment_finder/AnalyzerFiles/nj5\n",
      "/Users/in2293/Desktop/nlab_experiment_finder/AnalyzerFiles/ne1\n",
      "/Users/in2293/Desktop/nlab_experiment_finder/AnalyzerFiles/ne8\n",
      "/Users/in2293/Desktop/nlab_experiment_finder/AnalyzerFiles/rr2\n",
      "/Users/in2293/Desktop/nlab_experiment_finder/AnalyzerFiles/ni3\n",
      "/Users/in2293/Desktop/nlab_experiment_finder/AnalyzerFiles/rr5\n",
      "/Users/in2293/Desktop/nlab_experiment_finder/AnalyzerFiles/nf0\n",
      "/Users/in2293/Desktop/nlab_experiment_finder/AnalyzerFiles/ni4\n",
      "/Users/in2293/Desktop/nlab_experiment_finder/AnalyzerFiles/nc4\n",
      "/Users/in2293/Desktop/nlab_experiment_finder/AnalyzerFiles/rw1\n",
      "/Users/in2293/Desktop/nlab_experiment_finder/AnalyzerFiles/rx5\n",
      "/Users/in2293/Desktop/nlab_experiment_finder/AnalyzerFiles/nl7\n",
      "/Users/in2293/Desktop/nlab_experiment_finder/AnalyzerFiles/rt9\n",
      "/Users/in2293/Desktop/nlab_experiment_finder/AnalyzerFiles/xt7\n",
      "/Users/in2293/Desktop/nlab_experiment_finder/AnalyzerFiles/nc3\n",
      "/Users/in2293/Desktop/nlab_experiment_finder/AnalyzerFiles/rx2\n",
      "/Users/in2293/Desktop/nlab_experiment_finder/AnalyzerFiles/mz9\n",
      "/Users/in2293/Desktop/nlab_experiment_finder/AnalyzerFiles/rw6\n",
      "/Users/in2293/Desktop/nlab_experiment_finder/AnalyzerFiles/mz0\n",
      "/Users/in2293/Desktop/nlab_experiment_finder/AnalyzerFiles/rt0\n",
      "/Users/in2293/Desktop/nlab_experiment_finder/AnalyzerFiles/mz7\n",
      "/Users/in2293/Desktop/nlab_experiment_finder/AnalyzerFiles/rw8\n",
      "/Users/in2293/Desktop/nlab_experiment_finder/AnalyzerFiles/xx2\n",
      "/Users/in2293/Desktop/nlab_experiment_finder/AnalyzerFiles/my8\n",
      "/Users/in2293/Desktop/nlab_experiment_finder/AnalyzerFiles/rt7\n",
      "/Users/in2293/Desktop/nlab_experiment_finder/AnalyzerFiles/my5b\n",
      "/Users/in2293/Desktop/nlab_experiment_finder/AnalyzerFiles/ni5\n",
      "/Users/in2293/Desktop/nlab_experiment_finder/AnalyzerFiles/nf1\n",
      "/Users/in2293/Desktop/nlab_experiment_finder/AnalyzerFiles/ne9\n",
      "/Users/in2293/Desktop/nlab_experiment_finder/AnalyzerFiles/rr3\n",
      "/Users/in2293/Desktop/nlab_experiment_finder/AnalyzerFiles/ay2\n",
      "/Users/in2293/Desktop/nlab_experiment_finder/AnalyzerFiles/sg6\n",
      "/Users/in2293/Desktop/nlab_experiment_finder/AnalyzerFiles/ne0\n",
      "/Users/in2293/Desktop/nlab_experiment_finder/AnalyzerFiles/nj4\n",
      "/Users/in2293/Desktop/nlab_experiment_finder/AnalyzerFiles/ay5\n",
      "/Users/in2293/Desktop/nlab_experiment_finder/AnalyzerFiles/rq2\n",
      "/Users/in2293/Desktop/nlab_experiment_finder/AnalyzerFiles/nj3\n",
      "/Users/in2293/Desktop/nlab_experiment_finder/AnalyzerFiles/ne7\n",
      "/Users/in2293/Desktop/nlab_experiment_finder/AnalyzerFiles/no7\n",
      "/Users/in2293/Desktop/nlab_experiment_finder/AnalyzerFiles/xx3\n",
      "/Users/in2293/Desktop/nlab_experiment_finder/AnalyzerFiles/rw9\n",
      "/Users/in2293/Desktop/nlab_experiment_finder/AnalyzerFiles/nl8\n",
      "/Users/in2293/Desktop/nlab_experiment_finder/AnalyzerFiles/xt8\n",
      "/Users/in2293/Desktop/nlab_experiment_finder/AnalyzerFiles/rt6\n",
      "/Users/in2293/Desktop/nlab_experiment_finder/AnalyzerFiles/mz1\n",
      "/Users/in2293/Desktop/nlab_experiment_finder/AnalyzerFiles/rt1\n",
      "/Users/in2293/Desktop/nlab_experiment_finder/AnalyzerFiles/rt8\n",
      "/Users/in2293/Desktop/nlab_experiment_finder/AnalyzerFiles/my7\n",
      "/Users/in2293/Desktop/nlab_experiment_finder/AnalyzerFiles/nl6\n",
      "/Users/in2293/Desktop/nlab_experiment_finder/AnalyzerFiles/rw7\n",
      "/Users/in2293/Desktop/nlab_experiment_finder/AnalyzerFiles/rx3\n",
      "/Users/in2293/Desktop/nlab_experiment_finder/AnalyzerFiles/no9\n",
      "/Users/in2293/Desktop/nlab_experiment_finder/AnalyzerFiles/nl1\n",
      "/Users/in2293/Desktop/nlab_experiment_finder/AnalyzerFiles/nc5\n",
      "/Users/in2293/Desktop/nlab_experiment_finder/AnalyzerFiles/my0\n",
      "/Users/in2293/Desktop/nlab_experiment_finder/AnalyzerFiles/rx4\n",
      "/Users/in2293/Desktop/nlab_experiment_finder/AnalyzerFiles/rw0\n",
      "/Users/in2293/Desktop/nlab_experiment_finder/AnalyzerFiles/nn3\n",
      "/Users/in2293/Desktop/nlab_experiment_finder/AnalyzerFiles/ry9\n"
     ]
    }
   ],
   "source": [
    "#This takes ~10 min to run. Alternatively: pd.read_csv('MPLdf')\n",
    "\n",
    "#Initialize the 3 data frames. We will append 1 row of data after loading each experiment\n",
    "Mdf = pd.DataFrame()\n",
    "Pdf = pd.DataFrame()\n",
    "Ldf = pd.DataFrame()\n",
    "\n",
    "unloaded_experiments = []\n",
    "\n",
    "exp_count = 0;\n",
    "\n",
    "for f in subfolders[0:100]:  #loop each animal\n",
    "    \n",
    "      print(f)\n",
    "        \n",
    "      for anafile in os.scandir(f):  #loop each experiment from the given animal\n",
    "        try:\n",
    "\n",
    "            data = io.loadmat(anafile.path, struct_as_record=False, squeeze_me=True)\n",
    "            \n",
    "            #Other things I tried for loading MATLAB .mat file and the reasons they didn't work:\n",
    "            #Analyzer = loadmat(anafile.path)  #Could use this instead of the above, but it takes too long.          \n",
    "            #Analyzer = io.loadmat(anafile.path,simplify_cells = True) #Throws error for files containing video object\n",
    "            \n",
    "        except:  #Sometimes there are irrelevant files saved in each folder. \n",
    "                #I want to make sure they are irrelevant by storing their name.\n",
    "            \n",
    "            print('error loading ', anafile.path)    \n",
    "            unloaded_experiments.append(anafile.path) #I want to know what files were not loaded\n",
    "            continue\n",
    "                \n",
    "        #Remove unnecessary \"syncInfo\". \n",
    "        #Otherwise it takes forever to parse into a dict below.\n",
    "        data_copy = data.copy()\n",
    "        for k,v in data.items():\n",
    "            if k[0:4] == 'sync':        \n",
    "                data_copy.pop(k)\n",
    "\n",
    "        #Organize loaded .mat file into something readable.  Ref: StackOverflow.\n",
    "        Analyzer = organizemat(data_copy)   \n",
    "        \n",
    "        #Move header into the M dict\n",
    "        header = Analyzer['__header__']\n",
    "        Analyzer = Analyzer['Analyzer']\n",
    "        Analyzer['M']['header'] = header    \n",
    "        \n",
    "        #Experimental parameters are in 3 GUI windows at stimulus-controller:\n",
    "        M = Analyzer['M'] #Parameters in the \"MW\" GUI\n",
    "        L = Analyzer['L'] #Parameters in the \"Looper\" GUI\n",
    "        P = Analyzer['P'] #Parameters in the \"paramList\" GUI\n",
    "        \n",
    "        if type(L['param'][0]) is str: #Asks if there is only one looping parameter\n",
    "            L['param'] = [L['param']]  #Embed it to make it consistent with N>1 parameter case\n",
    "            \n",
    "        n_loop_param = len(L['param'])  #number of looping parameters\n",
    "        #mat2list converts a matlab vector creation (e.g. '0:45:315', or [0 45]), into a complete Python list.\n",
    "        #Expanding the vector into a Python list allows for easier querying of the data frame.\n",
    "        for i in range(n_loop_param):\n",
    "            L['paramSymbol' + str(i+1)] = L['param'][i][0]\n",
    "            L['paramValues' + str(i+1)] = str(mat2list(L['param'][i][1]))\n",
    "            \n",
    "            L['paramValuesMatlabStr' + str(i+1)] = L['param'][i][1]\n",
    "        \n",
    "        L.pop('param') #No longer needed. Redundant.\n",
    "        \n",
    "        #json_normalize turns it into a df, and helps to unpack some fields\n",
    "        Mseries = pd.json_normalize(Analyzer['M'])\n",
    "        Lseries = pd.json_normalize(Analyzer['L'])\n",
    "        Pseries = pd.json_normalize(Analyzer['P'])\n",
    "        \n",
    "        #Pseries needs reformatted for readability:\n",
    "        #Create a data frame with one row: columns are the parameter symbols, entries are the values.\n",
    "        columns = list(pd.DataFrame(Pseries.param[0]).iloc[:,0]) #columns\n",
    "        values = list(pd.DataFrame(Pseries.param[0]).iloc[:,2]) #values\n",
    "        columns = ['module'] + columns\n",
    "        values = [Pseries.type[0]] + values  #append front with module: e.g. 'PG' for periodic grater\n",
    "        Pseries = pd.DataFrame(columns = columns)\n",
    "        Pseries.loc[0] = values \n",
    "        \n",
    "        #Append this experiment:\n",
    "        Mdf = Mdf.append(Mseries,ignore_index = True)\n",
    "        Ldf = Ldf.append(Lseries,ignore_index = True)\n",
    "        Pdf = Pdf.append(Pseries,ignore_index = True)\n",
    "\n",
    "        \n"
   ]
  },
  {
   "cell_type": "markdown",
   "id": "cbc7e1a7",
   "metadata": {},
   "source": [
    "# Clean up and save the table as a .csv"
   ]
  },
  {
   "cell_type": "code",
   "execution_count": 184,
   "id": "93a3f89f",
   "metadata": {},
   "outputs": [
    {
     "name": "stdout",
     "output_type": "stream",
     "text": [
      "saved table with 1332 experiments to  /Users/in2293/Desktop/nlab_experiment_finder\n"
     ]
    }
   ],
   "source": [
    "df = pd.concat([Mdf,Ldf,Pdf],axis = 1)    #Create one single data frame with all the parameters.\n",
    "\n",
    "df = df.drop_duplicates(subset=['anim', 'expt','WF']) #Remove redundant rows: copies of a file often exist.\n",
    "\n",
    "df.to_csv('all_experiments') #saves to working dir\n",
    "\n",
    "print(f'saved table with {df.shape[0]} experiments to ', wdir)"
   ]
  },
  {
   "cell_type": "markdown",
   "id": "fa99105b",
   "metadata": {},
   "source": [
    "# Create a table of all widefield Kalatsky retinotopy experiments.\n",
    "\n",
    "Kalatsky experiments have some unique features. \n",
    "1) The looper only has ori = [0 90 180 270] \\\n",
    "2) The temporal period is really long.  e.g. > 800 frames. \\\n",
    "The above should narrow it down, but I include several other dependencies as well, just to make sure.\n",
    "\n"
   ]
  },
  {
   "cell_type": "code",
   "execution_count": 196,
   "id": "ba479c1d",
   "metadata": {},
   "outputs": [
    {
     "name": "stdout",
     "output_type": "stream",
     "text": [
      "n = 345 experiments where ori is only looping variable: [0 90 180 270]\n",
      "n = 251\n",
      "n = 251\n",
      "n = 230\n",
      "n = 227\n",
      "n = 227 Kalatsky experiments\n",
      "n = 174 widefield Kalatsky experiments\n",
      "n = 75 animals in which widefield Kalatsky was run\n"
     ]
    }
   ],
   "source": [
    "#Find all experiments where orientation was the only looping variable\n",
    "\n",
    "#Make sure ori is the only looping parameter\n",
    "Kdf = df.query(\"paramSymbol1 == 'ori'\"). \\\n",
    "            query('paramSymbol2 != paramSymbol2'). \\\n",
    "            query('paramSymbol2 != paramSymbol3'). \\\n",
    "            query('paramSymbol3 != paramSymbol4') \n",
    "            \n",
    "\n",
    "#ori loops through for cardinal directions: \n",
    "Kdf = Kdf.query(\"paramValues1 == '[0.0, 90.0, 180.0, 270.0]'\")\n",
    "    \n",
    "print(f'n = {Kdf.shape[0]} experiments where ori is only looping variable: [0 90 180 270]')\n",
    "\n",
    "#The bar is changing slowly\n",
    "Kdf = Kdf.query('t_period > 800')\n",
    "print(f'n = {Kdf.shape[0]}')\n",
    "\n",
    "#The bar is drifting\n",
    "Kdf = Kdf.query('separable == 0')\n",
    "print(f'n = {Kdf.shape[0]}')\n",
    "\n",
    "#The bar drifts over a large part of the screen\n",
    "Kdf = Kdf.query('x_size > 100').query('y_size > 100')\n",
    "print(f'n = {Kdf.shape[0]}')\n",
    "      \n",
    "#There is only one bar on the screen\n",
    "Kdf = Kdf.query('s_freq < 1/80')\n",
    "print(f'n = {Kdf.shape[0]}')\n",
    "\n",
    "#Its a narrow bar and not a sinewave\n",
    "Kdf = Kdf.query(\"st_profile == 'square'\").query(\"s_duty < 0.4\")\n",
    "print(f'n = {Kdf.shape[0]} Kalatsky experiments')\n",
    "\n",
    "\n",
    "Kdf = Kdf.query(\"WF == 1\")  #Change this to 'twoP' if you want two-photon Kalatsky\n",
    "print(f'n = {Kdf.shape[0]} widefield Kalatsky experiments')\n",
    "\n",
    "Kdf = Kdf.drop_duplicates(subset = ['anim'])\n",
    "print(f'n = {Kdf.shape[0]} animals in which widefield Kalatsky was run')\n"
   ]
  },
  {
   "cell_type": "markdown",
   "id": "a164f639",
   "metadata": {},
   "source": [
    "# Save table of Kalatsky experiments"
   ]
  },
  {
   "cell_type": "code",
   "execution_count": 191,
   "id": "56e66ecb",
   "metadata": {},
   "outputs": [
    {
     "name": "stdout",
     "output_type": "stream",
     "text": [
      "saved table with 75 experiments to  /Users/in2293/Desktop/nlab_experiment_finder\n"
     ]
    }
   ],
   "source": [
    "Kdf.to_csv('Kalatsky table') #saves to working dir\n",
    "\n",
    "print(f'saved table with {Kdf.shape[0]} experiments to ', wdir)\n"
   ]
  }
 ],
 "metadata": {
  "kernelspec": {
   "display_name": "Python 3",
   "language": "python",
   "name": "python3"
  },
  "language_info": {
   "codemirror_mode": {
    "name": "ipython",
    "version": 3
   },
   "file_extension": ".py",
   "mimetype": "text/x-python",
   "name": "python",
   "nbconvert_exporter": "python",
   "pygments_lexer": "ipython3",
   "version": "3.8.8"
  }
 },
 "nbformat": 4,
 "nbformat_minor": 5
}
